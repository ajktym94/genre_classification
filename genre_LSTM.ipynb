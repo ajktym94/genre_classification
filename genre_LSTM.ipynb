{
 "cells": [
  {
   "cell_type": "code",
   "execution_count": 29,
   "id": "53652d54-904f-467c-ab4d-efeef5e7df40",
   "metadata": {},
   "outputs": [],
   "source": [
    "# import os\n",
    "# os.environ['CUDA_LAUNCH_BLOCKING'] = \"1\""
   ]
  },
  {
   "cell_type": "code",
   "execution_count": 30,
   "id": "35a18477-880a-436e-a3d5-6b838081f7b1",
   "metadata": {},
   "outputs": [],
   "source": [
    "from utils import categorical_accuracy, print_scores"
   ]
  },
  {
   "cell_type": "code",
   "execution_count": 31,
   "id": "6a11ba84-672f-47ff-a83b-2a207b0cc071",
   "metadata": {},
   "outputs": [],
   "source": [
    "import time\n",
    "import os\n",
    "\n",
    "import pandas as pd\n",
    "import numpy as np\n",
    "\n",
    "import torch\n",
    "import torch.nn as nn\n",
    "from torch.utils.data import Dataset, DataLoader\n",
    "import torch.nn.functional as F\n",
    "import torchtext\n",
    "\n",
    "from gensim.models.keyedvectors import KeyedVectors\n",
    "\n",
    "from sklearn.feature_extraction.text import TfidfVectorizer, CountVectorizer\n",
    "from sklearn.metrics import precision_score, recall_score, f1_score, classification_report, confusion_matrix, accuracy_score, confusion_matrix, classification_report\n",
    "from sklearn.metrics import confusion_matrix\n",
    "from sklearn.model_selection import train_test_split, cross_validate\n",
    "from sklearn.preprocessing import StandardScaler, MaxAbsScaler, LabelEncoder\n",
    "\n",
    "import random\n",
    "import string\n",
    "import copy\n",
    "\n",
    "from tqdm import tqdm, tqdm_notebook\n",
    "\n",
    "import matplotlib.pyplot as plt\n",
    "import seaborn as sns"
   ]
  },
  {
   "cell_type": "code",
   "execution_count": 91,
   "id": "9f2d5d25-1ee1-4232-87b4-e576c764678c",
   "metadata": {},
   "outputs": [
    {
     "data": {
      "text/plain": [
       "<torch._C.Generator at 0x7fa81c22dc10>"
      ]
     },
     "execution_count": 91,
     "metadata": {},
     "output_type": "execute_result"
    }
   ],
   "source": [
    "RANDOM_SEED = 123\n",
    "GLOVE = 1 #Whether to use GloVe vectors or not\n",
    "GLOVE_DIM = 100\n",
    "BATCH_SIZE = 256\n",
    "EPOCHS = 50\n",
    "LEARNING_RATE = 0.001\n",
    "BIDIRECTIONAL = True\n",
    "\n",
    "torch.manual_seed(RANDOM_SEED)"
   ]
  },
  {
   "cell_type": "code",
   "execution_count": 92,
   "id": "710f20cf-fe4d-4891-b3d3-26b64a85e552",
   "metadata": {},
   "outputs": [
    {
     "data": {
      "text/plain": [
       "device(type='cuda')"
      ]
     },
     "execution_count": 92,
     "metadata": {},
     "output_type": "execute_result"
    }
   ],
   "source": [
    "if torch.cuda.is_available():\n",
    "    device = torch.device(\"cuda\")\n",
    "else:\n",
    "    device = torch.device(\"cpu\")\n",
    "    \n",
    "device"
   ]
  },
  {
   "cell_type": "code",
   "execution_count": 93,
   "id": "27dd80a7-eaeb-43ac-8bce-a85432bfd50f",
   "metadata": {},
   "outputs": [],
   "source": [
    "df = pd.read_pickle(\"./nlp_genre/df_bal_kayla.pkl\")\n",
    "df_test = pd.read_pickle(\"./nlp_genre/df_test_kayla.pkl\")"
   ]
  },
  {
   "cell_type": "code",
   "execution_count": 94,
   "id": "f1d65990-1551-48f5-8086-84046538db11",
   "metadata": {},
   "outputs": [],
   "source": [
    "full_df = pd.concat([df[['lyrics_nsw_alpha_en', 'Genre']], df_test[['lyrics_nsw_alpha_en', 'Genre']]], axis=0).reset_index(drop=True)"
   ]
  },
  {
   "cell_type": "code",
   "execution_count": 95,
   "id": "39f7cec9-d9d5-4113-956f-c78c4502b629",
   "metadata": {},
   "outputs": [
    {
     "data": {
      "text/html": [
       "<div>\n",
       "<style scoped>\n",
       "    .dataframe tbody tr th:only-of-type {\n",
       "        vertical-align: middle;\n",
       "    }\n",
       "\n",
       "    .dataframe tbody tr th {\n",
       "        vertical-align: top;\n",
       "    }\n",
       "\n",
       "    .dataframe thead th {\n",
       "        text-align: right;\n",
       "    }\n",
       "</style>\n",
       "<table border=\"1\" class=\"dataframe\">\n",
       "  <thead>\n",
       "    <tr style=\"text-align: right;\">\n",
       "      <th></th>\n",
       "      <th>lyrics_nsw_alpha_en</th>\n",
       "      <th>Genre</th>\n",
       "    </tr>\n",
       "  </thead>\n",
       "  <tbody>\n",
       "    <tr>\n",
       "      <th>0</th>\n",
       "      <td>written baby baby treat bad best boy ever wan ...</td>\n",
       "      <td>Rock</td>\n",
       "    </tr>\n",
       "    <tr>\n",
       "      <th>1</th>\n",
       "      <td>saw yesterday shaved body play know fine ca ge...</td>\n",
       "      <td>Rock</td>\n",
       "    </tr>\n",
       "    <tr>\n",
       "      <th>2</th>\n",
       "      <td>wan na add subtract put take less back multipl...</td>\n",
       "      <td>Rock</td>\n",
       "    </tr>\n",
       "    <tr>\n",
       "      <th>3</th>\n",
       "      <td>well aware happiness get simple struggle survi...</td>\n",
       "      <td>Rock</td>\n",
       "    </tr>\n",
       "    <tr>\n",
       "      <th>4</th>\n",
       "      <td>met day feeling usual guess could say sale tak...</td>\n",
       "      <td>Rock</td>\n",
       "    </tr>\n",
       "  </tbody>\n",
       "</table>\n",
       "</div>"
      ],
      "text/plain": [
       "                                 lyrics_nsw_alpha_en Genre\n",
       "0  written baby baby treat bad best boy ever wan ...  Rock\n",
       "1  saw yesterday shaved body play know fine ca ge...  Rock\n",
       "2  wan na add subtract put take less back multipl...  Rock\n",
       "3  well aware happiness get simple struggle survi...  Rock\n",
       "4  met day feeling usual guess could say sale tak...  Rock"
      ]
     },
     "execution_count": 95,
     "metadata": {},
     "output_type": "execute_result"
    }
   ],
   "source": [
    "full_df.head()"
   ]
  },
  {
   "cell_type": "code",
   "execution_count": 96,
   "id": "33620fdf-5d66-4e95-a3df-c94ad9a6b44a",
   "metadata": {},
   "outputs": [],
   "source": [
    "full_df = full_df[~full_df['Genre'].isin(['Indie', 'Folk'])]"
   ]
  },
  {
   "cell_type": "code",
   "execution_count": 97,
   "id": "865ea6ca-be86-4ebd-a722-179c204722b1",
   "metadata": {},
   "outputs": [
    {
     "data": {
      "text/plain": [
       "(43837, 2)"
      ]
     },
     "execution_count": 97,
     "metadata": {},
     "output_type": "execute_result"
    }
   ],
   "source": [
    "full_df.shape"
   ]
  },
  {
   "cell_type": "code",
   "execution_count": 98,
   "id": "94f6cf20-5cf7-428c-81c9-617ad89ab143",
   "metadata": {},
   "outputs": [],
   "source": [
    "le = LabelEncoder()\n",
    "y = torch.tensor(le.fit_transform(full_df['Genre']))"
   ]
  },
  {
   "cell_type": "code",
   "execution_count": 99,
   "id": "e19679df-4bbc-467d-a732-2f51e64652f5",
   "metadata": {},
   "outputs": [],
   "source": [
    "class Sequences(Dataset):\n",
    "    def __init__(self, path, y, max_seq_len):\n",
    "        self.max_seq_len = max_seq_len\n",
    "        df = path\n",
    "        self.vectorizer = CountVectorizer(max_features = 20000)# min_df = 0.00001, max_df = 0.8)\n",
    "        self.vectorizer.fit(df['lyrics_nsw_alpha_en'].tolist())\n",
    "        self.token2idx = self.vectorizer.vocabulary_\n",
    "        self.token2idx['<PAD>'] = max(self.token2idx.values()) + 1\n",
    "        # self.token2idx['<UNK>'] = max(self.token2idx.values()) + 1\n",
    "\n",
    "        tokenizer = self.vectorizer.build_analyzer()\n",
    "        self.encode = lambda x: [self.token2idx[token] for token in tokenizer(x)\n",
    "                                 if token in self.token2idx] # Encode sentences to list of numbers based on token2idx\n",
    "        self.pad = lambda x: x + (max_seq_len - len(x)) * [self.token2idx['<PAD>']]\n",
    "        \n",
    "        sequences = [self.encode(sequence)[:max_seq_len] for sequence in df['lyrics_nsw_alpha_en'].tolist()]\n",
    "        sequences, self.labels = zip(*[(sequence, label) for sequence, label\n",
    "                                    in zip(sequences, df['Genre'].tolist()) if sequence])\n",
    "        self.labels = y\n",
    "        self.sequences = [self.pad(sequence) for sequence in sequences]\n",
    "\n",
    "    def __getitem__(self, i):\n",
    "        assert len(self.sequences[i]) == self.max_seq_len\n",
    "        return self.sequences[i], self.labels[i]\n",
    "    \n",
    "    def __len__(self):\n",
    "        return len(self.sequences)"
   ]
  },
  {
   "cell_type": "code",
   "execution_count": 100,
   "id": "608702b3-0af1-4562-9c84-3038976f7600",
   "metadata": {},
   "outputs": [],
   "source": [
    "dataset = Sequences(full_df, y, max_seq_len=150)"
   ]
  },
  {
   "cell_type": "code",
   "execution_count": 101,
   "id": "859feef3-ebc4-4702-bdaa-ec56e54a9457",
   "metadata": {},
   "outputs": [
    {
     "data": {
      "text/plain": [
       "20001"
      ]
     },
     "execution_count": 101,
     "metadata": {},
     "output_type": "execute_result"
    }
   ],
   "source": [
    "len(list(dataset.token2idx.values())) # All values are continuous"
   ]
  },
  {
   "cell_type": "code",
   "execution_count": 102,
   "id": "3dbfa1da-b0a2-4752-a673-b1f33efe5b06",
   "metadata": {},
   "outputs": [],
   "source": [
    "if os.path.isfile('./glove'+str(GLOVE_DIM)+'.pth'):\n",
    "    glove = torch.load('glove'+str(GLOVE_DIM)+'.pth')\n",
    "else:\n",
    "    glove = torchtext.vocab.GloVe(name='6B', dim=GLOVE_DIM)\n",
    "    torch.save(glove, 'glove'+str(GLOVE_DIM)+'.pth')"
   ]
  },
  {
   "cell_type": "code",
   "execution_count": 103,
   "id": "5ff9c10e-8b99-499e-a971-1a8cd6c7dc76",
   "metadata": {},
   "outputs": [],
   "source": [
    "def get_word(word):\n",
    "    return glove.vectors[glove.stoi[word]]"
   ]
  },
  {
   "cell_type": "code",
   "execution_count": 104,
   "id": "72a528f0-85af-492d-8656-867cf604da1c",
   "metadata": {},
   "outputs": [
    {
     "data": {
      "text/plain": [
       "tensor([ 0.2257, -0.5625, -0.0516, -0.0794,  1.1876, -0.4840, -0.2334, -0.8528,\n",
       "         0.9750, -0.3334,  0.7169,  0.1264,  0.3196, -1.4136, -0.5790, -0.0373,\n",
       "        -0.0164,  0.4516, -0.2900,  0.5260, -0.2253, -0.2956, -0.0324,  1.5608,\n",
       "        -0.0135, -0.0646,  0.2663,  0.7860, -0.7169, -0.9302,  0.8046,  1.6035,\n",
       "        -0.3060, -0.3476,  0.9387,  0.3814, -0.2674, -0.5652,  0.5890, -0.1455,\n",
       "        -0.3432,  0.2129, -0.3989,  0.0900, -0.8495,  0.3880, -0.5045, -0.2249,\n",
       "         1.0644, -0.2624,  1.0334,  0.0635, -0.3999,  0.2424, -0.6564, -1.8107,\n",
       "        -0.0618,  0.1380,  1.1658, -0.3005, -0.5014,  0.1651,  0.0398,  0.6254,\n",
       "         0.5694,  0.6413,  0.2131,  0.3028,  0.3967,  0.3897,  0.2818,  0.7948,\n",
       "        -0.1196, -0.4960, -0.5319, -0.1490,  0.5125, -0.3921, -0.5853, -0.0785,\n",
       "         0.8172, -0.7350, -0.6813,  0.0992, -0.8761,  0.0296,  0.3340, -0.1431,\n",
       "         0.1696, -0.0352,  0.3978,  0.7177,  0.2587, -0.3620,  0.4570, -0.3916,\n",
       "        -0.4934, -0.1122,  0.2905,  0.7322])"
      ]
     },
     "execution_count": 104,
     "metadata": {},
     "output_type": "execute_result"
    }
   ],
   "source": [
    "get_word('google')"
   ]
  },
  {
   "cell_type": "code",
   "execution_count": 105,
   "id": "b45114b6-83e9-4a80-87c5-d4fd507f3bec",
   "metadata": {},
   "outputs": [],
   "source": [
    "matrix_len = len(dataset.token2idx)\n",
    "weights_matrix = np.zeros((matrix_len, GLOVE_DIM))\n",
    "words_found = 0\n",
    "\n",
    "for i, word in enumerate(dataset.token2idx):\n",
    "    try: \n",
    "        weights_matrix[i] = get_word(word)\n",
    "        words_found += 1\n",
    "    except KeyError:\n",
    "        weights_matrix[i] = np.random.normal(scale=0.6, size=(GLOVE_DIM, ))\n",
    "\n",
    "if torch.cuda.is_available():\n",
    "    weights_matrix = torch.from_numpy(weights_matrix)"
   ]
  },
  {
   "cell_type": "code",
   "execution_count": 106,
   "id": "77dd0d32-71af-4b71-9f19-cfa045fa5b7b",
   "metadata": {},
   "outputs": [
    {
     "data": {
      "text/plain": [
       "tensor([-0.5609,  0.2899,  0.0602, -0.1321,  0.7898,  1.0458, -0.1408, -0.4544,\n",
       "        -0.4954, -0.4279,  0.2538, -0.1159,  0.1499,  0.6569,  0.0729, -0.1770,\n",
       "         0.4742, -0.0223, -0.5012,  0.4231,  0.1767, -0.3700,  0.0698,  0.1593,\n",
       "         0.3309, -0.5657, -0.2016, -0.2857, -0.1730,  0.2968,  0.0069,  0.3313,\n",
       "        -0.1981,  0.0917, -0.3909,  0.4976,  0.0683, -0.1478, -0.4010, -0.1988,\n",
       "        -0.2229,  0.5856, -0.1999,  0.8001, -0.0515, -0.8825, -0.7649, -0.9991,\n",
       "        -0.0395, -0.0076,  0.5438,  0.4691,  0.9573,  0.4700, -0.1662, -1.9906,\n",
       "        -0.2407,  0.0561,  0.9102,  0.2455,  0.4053,  1.1699, -0.5612, -0.6298,\n",
       "         1.3325, -0.8780,  0.6988,  1.2443,  0.0113, -0.1507, -0.3130,  1.0510,\n",
       "         0.2988, -0.2263,  0.0576,  0.7482, -0.1628,  0.3070, -1.1076, -0.3732,\n",
       "        -0.2477, -0.5877, -0.3281, -0.4841, -1.6908,  0.3154,  0.2147, -1.0659,\n",
       "        -0.3925, -0.1047, -0.2477,  0.0039, -0.4360,  0.1751,  0.3898,  0.4952,\n",
       "        -0.5688, -0.7036, -0.4410, -0.0508], dtype=torch.float64)"
      ]
     },
     "execution_count": 106,
     "metadata": {},
     "output_type": "execute_result"
    }
   ],
   "source": [
    "weights_matrix[0]"
   ]
  },
  {
   "cell_type": "code",
   "execution_count": 107,
   "id": "40b4dc27-c610-493c-8b2b-c8fe56b022ca",
   "metadata": {},
   "outputs": [],
   "source": [
    "train_split = 0.7\n",
    "train_size = int(train_split * len(dataset))\n",
    "test_size = len(dataset) - train_size\n",
    "train_dataset, test_dataset = torch.utils.data.random_split(dataset, [train_size, test_size])"
   ]
  },
  {
   "cell_type": "code",
   "execution_count": 108,
   "id": "2d5245b6-dec0-4e84-af0e-5e601a01eeb3",
   "metadata": {},
   "outputs": [],
   "source": [
    "def collate(batch):\n",
    "    inputs = torch.LongTensor([item[0] for item in batch])\n",
    "    target = torch.LongTensor([item[1] for item in batch])\n",
    "    return inputs, target\n",
    "\n",
    "batch_size = BATCH_SIZE\n",
    "train_loader = DataLoader(train_dataset, batch_size=batch_size, collate_fn=collate, shuffle=True)#, num_workers = 2)\n",
    "test_loader = DataLoader(test_dataset, batch_size=batch_size, collate_fn=collate, shuffle=True)#, num_workers = 2)"
   ]
  },
  {
   "cell_type": "code",
   "execution_count": 109,
   "id": "139b8e50-ca36-427d-a637-f01dce222896",
   "metadata": {},
   "outputs": [],
   "source": [
    "class LSTM(nn.Module):\n",
    "    def __init__(\n",
    "        self,\n",
    "        batch_size,\n",
    "        vocab_size = None,\n",
    "        weights_matrix = None,\n",
    "        embedding_dimension=300,\n",
    "        hidden_size=64, \n",
    "        n_layers=1,\n",
    "        device=device,\n",
    "        dropout=0.4,\n",
    "        bidirectional=BIDIRECTIONAL\n",
    "    ):\n",
    "        super(LSTM, self).__init__()\n",
    "        self.n_layers = n_layers\n",
    "        self.hidden_size = hidden_size\n",
    "        self.device = device\n",
    "        self.batch_size = batch_size\n",
    "        self.bidirectional = bidirectional\n",
    "        self.directions = 2 if self.bidirectional else 1\n",
    "\n",
    "        if weights_matrix is not None:\n",
    "            self.encoder, num_embeddings, embedding_dimension = self.create_emb_layer(weights_matrix, True)\n",
    "        else:\n",
    "            self.encoder = nn.Embedding(vocab_size, embedding_dimension)\n",
    "\n",
    "        self.rnn = nn.LSTM(\n",
    "            embedding_dimension,\n",
    "            hidden_size,\n",
    "            num_layers=n_layers,\n",
    "            batch_first=True,\n",
    "            bidirectional=bidirectional\n",
    "        )\n",
    "        self.fc = nn.Linear(hidden_size*self.directions, 64)\n",
    "        self.relu =nn.ReLU()\n",
    "        self.do = nn.Dropout(p=dropout)\n",
    "        self.decoder = nn.Linear(64, 6)\n",
    "        self.sm = nn.Softmax(1)\n",
    "\n",
    "    def create_emb_layer(self, weights_matrix, non_trainable=False):\n",
    "        num_embeddings, embedding_dim = weights_matrix.shape\n",
    "        emb_layer = nn.Embedding(num_embeddings, embedding_dim)\n",
    "        emb_layer.load_state_dict({'weight': weights_matrix})\n",
    "\n",
    "        if non_trainable:\n",
    "            emb_layer.weight.requires_grad = False\n",
    "\n",
    "        return emb_layer, num_embeddings, embedding_dim\n",
    "\n",
    "    def init_hidden(self):\n",
    "        h0 = torch.randn(self.n_layers*self.directions, self.batch_size, self.hidden_size).to(self.device)\n",
    "        c0 = torch.randn(self.n_layers*self.directions, self.batch_size, self.hidden_size).to(self.device)\n",
    "        return (h0, c0)\n",
    "\n",
    "    def forward(self, inputs):\n",
    "        # Avoid breaking if the last batch has a different size\n",
    "        batch_size = inputs.size(0)\n",
    "        if batch_size != self.batch_size:\n",
    "            self.batch_size = batch_size\n",
    "\n",
    "        h0, c0 = self.init_hidden()\n",
    "        encoded = self.encoder(inputs) # 512x128 -> 512x128x100\n",
    "\n",
    "        output, (hidden, cell) = self.rnn(encoded, (h0, c0)) #512x128x100 -> 512x128x128\n",
    "        # output[x, -1, y] is same as hidden\n",
    "        # output is the collection of hidden states at each time step; hidden is the hidden state at the final time step\n",
    "        # print(hidden.shape)\n",
    "        if self.bidirectional:\n",
    "            hidden = torch.cat((hidden[-2,:,:], hidden[-1,:,:]), dim = 1)\n",
    "        else:\n",
    "            hidden = hidden[-1,:,:].squeeze_(0)\n",
    "        # print(hidden.shape)\n",
    "        hidden = self.fc(hidden)\n",
    "        hidden = self.relu(hidden)\n",
    "        hidden = self.do(hidden)\n",
    "        hidden = self.decoder(hidden).squeeze()\n",
    "        hidden = self.sm(hidden)\n",
    "        return hidden"
   ]
  },
  {
   "cell_type": "code",
   "execution_count": 110,
   "id": "fa124e93-af1e-482d-bc87-37487fa4551d",
   "metadata": {},
   "outputs": [
    {
     "data": {
      "text/plain": [
       "LSTM(\n",
       "  (encoder): Embedding(20001, 100)\n",
       "  (rnn): LSTM(100, 200, batch_first=True, bidirectional=True)\n",
       "  (fc): Linear(in_features=400, out_features=64, bias=True)\n",
       "  (relu): ReLU()\n",
       "  (do): Dropout(p=0.4, inplace=False)\n",
       "  (decoder): Linear(in_features=64, out_features=6, bias=True)\n",
       "  (sm): Softmax(dim=1)\n",
       ")"
      ]
     },
     "execution_count": 110,
     "metadata": {},
     "output_type": "execute_result"
    }
   ],
   "source": [
    "if GLOVE:\n",
    "    model = LSTM(\n",
    "        hidden_size=200,\n",
    "        weights_matrix = weights_matrix,\n",
    "        device=device,\n",
    "        batch_size=batch_size,\n",
    "        bidirectional=BIDIRECTIONAL\n",
    "    )\n",
    "else:\n",
    "    model = LSTM(\n",
    "        hidden_size=256,\n",
    "        vocab_size=len(dataset.token2idx),\n",
    "        device=device,\n",
    "        batch_size=batch_size,\n",
    "        bidirectional=BIDIRECTIONAL\n",
    "    )\n",
    "model = model.to(device)\n",
    "model"
   ]
  },
  {
   "cell_type": "code",
   "execution_count": 111,
   "id": "20725892-b900-4b00-a260-89eb59da37bc",
   "metadata": {},
   "outputs": [],
   "source": [
    "criterion = nn.CrossEntropyLoss().to(device)\n",
    "optimizer = torch.optim.Adam(model.parameters(), lr=LEARNING_RATE)"
   ]
  },
  {
   "cell_type": "code",
   "execution_count": 112,
   "id": "fe6a7aab-5d1e-41b7-937c-fa220f34e18f",
   "metadata": {},
   "outputs": [],
   "source": [
    "def train(model, train_loader, confusion=None):\n",
    "    model.train()\n",
    "    progress_bar = tqdm_notebook(train_loader, leave=False)\n",
    "    train_batch_losses = []\n",
    "    train_batch_accuracy = []\n",
    "    total = 0\n",
    "\n",
    "    for inputs, target in progress_bar:\n",
    "        inputs, target = inputs.to(device), target.to(device)\n",
    "        optimizer.zero_grad()\n",
    "\n",
    "        output = model(inputs).to(device)\n",
    "        # print(output.shape, target.shape)\n",
    "        loss = criterion(output, target)\n",
    "        acc = categorical_accuracy(output, target, device)\n",
    "\n",
    "        loss.backward()\n",
    "\n",
    "        # nn.utils.clip_grad_norm_(model.parameters(), 3)\n",
    "\n",
    "        optimizer.step()\n",
    "\n",
    "        progress_bar.set_description(f'Loss: {loss.item():.3f}')\n",
    "\n",
    "        train_batch_losses.append(loss.item())\n",
    "        train_batch_accuracy.append(acc.item())\n",
    "        total += 1\n",
    "\n",
    "    if confusion:\n",
    "        print_scores(target.cpu().clone().detach().numpy(), output.argmax(dim=1, keepdim=True).squeeze().cpu().clone().detach().numpy(), le.classes_)\n",
    "        # pass\n",
    "\n",
    "    return train_batch_losses, train_batch_accuracy, total"
   ]
  },
  {
   "cell_type": "code",
   "execution_count": 113,
   "id": "e0eeb732-ca03-453c-8ee2-5627cc374a99",
   "metadata": {},
   "outputs": [],
   "source": [
    "def evalu(model, test_loader, confusion=None):\n",
    "    model.eval()\n",
    "    progress_bar = tqdm_notebook(test_loader, leave=False)\n",
    "    eval_batch_loss = []\n",
    "    eval_batch_acc = []\n",
    "    total = 0\n",
    "\n",
    "    with torch.no_grad():\n",
    "        for inputs, target in progress_bar:\n",
    "            inputs, target = inputs.to(device), target.to(device)\n",
    "            predictions = model(inputs)\n",
    "\n",
    "            loss = criterion(predictions, target)\n",
    "\n",
    "            acc = categorical_accuracy(predictions, target, device)\n",
    "\n",
    "            eval_batch_loss.append(loss.item())\n",
    "            eval_batch_acc.append(acc.item())\n",
    "            total += 1\n",
    "    if confusion:\n",
    "        print_scores(target.cpu().clone().detach().numpy(), predictions.argmax(dim=1, keepdim=True).squeeze().cpu().clone().detach().numpy(), le.classes_)\n",
    "        pass\n",
    "    return eval_batch_loss, eval_batch_acc, total"
   ]
  },
  {
   "cell_type": "code",
   "execution_count": 114,
   "id": "ac66ae0e-ccd0-4134-b9f5-1a819e7ed3df",
   "metadata": {},
   "outputs": [
    {
     "name": "stderr",
     "output_type": "stream",
     "text": [
      "/tmp/ipykernel_7441/2542562397.py:3: TqdmDeprecationWarning: This function will be removed in tqdm==5.0.0\n",
      "Please use `tqdm.notebook.tqdm` instead of `tqdm.tqdm_notebook`\n",
      "  progress_bar = tqdm_notebook(train_loader, leave=False)\n"
     ]
    },
    {
     "data": {
      "application/vnd.jupyter.widget-view+json": {
       "model_id": "",
       "version_major": 2,
       "version_minor": 0
      },
      "text/plain": [
       "  0%|          | 0/120 [00:00<?, ?it/s]"
      ]
     },
     "metadata": {},
     "output_type": "display_data"
    },
    {
     "data": {
      "application/vnd.jupyter.widget-view+json": {
       "model_id": "",
       "version_major": 2,
       "version_minor": 0
      },
      "text/plain": [
       "  0%|          | 0/52 [00:00<?, ?it/s]"
      ]
     },
     "metadata": {},
     "output_type": "display_data"
    },
    {
     "name": "stdout",
     "output_type": "stream",
     "text": [
      "Epoch #1\tTrain Loss: 1.706 \tTrain Accuracy: 0.307\n",
      "Epoch #1\tEval Loss: 1.636 \tEval Accuracy: 0.391\n"
     ]
    },
    {
     "data": {
      "application/vnd.jupyter.widget-view+json": {
       "model_id": "",
       "version_major": 2,
       "version_minor": 0
      },
      "text/plain": [
       "  0%|          | 0/120 [00:00<?, ?it/s]"
      ]
     },
     "metadata": {},
     "output_type": "display_data"
    },
    {
     "data": {
      "application/vnd.jupyter.widget-view+json": {
       "model_id": "",
       "version_major": 2,
       "version_minor": 0
      },
      "text/plain": [
       "  0%|          | 0/52 [00:00<?, ?it/s]"
      ]
     },
     "metadata": {},
     "output_type": "display_data"
    },
    {
     "data": {
      "application/vnd.jupyter.widget-view+json": {
       "model_id": "",
       "version_major": 2,
       "version_minor": 0
      },
      "text/plain": [
       "  0%|          | 0/120 [00:00<?, ?it/s]"
      ]
     },
     "metadata": {},
     "output_type": "display_data"
    },
    {
     "data": {
      "application/vnd.jupyter.widget-view+json": {
       "model_id": "",
       "version_major": 2,
       "version_minor": 0
      },
      "text/plain": [
       "  0%|          | 0/52 [00:00<?, ?it/s]"
      ]
     },
     "metadata": {},
     "output_type": "display_data"
    },
    {
     "data": {
      "application/vnd.jupyter.widget-view+json": {
       "model_id": "",
       "version_major": 2,
       "version_minor": 0
      },
      "text/plain": [
       "  0%|          | 0/120 [00:00<?, ?it/s]"
      ]
     },
     "metadata": {},
     "output_type": "display_data"
    },
    {
     "data": {
      "application/vnd.jupyter.widget-view+json": {
       "model_id": "",
       "version_major": 2,
       "version_minor": 0
      },
      "text/plain": [
       "  0%|          | 0/52 [00:00<?, ?it/s]"
      ]
     },
     "metadata": {},
     "output_type": "display_data"
    },
    {
     "data": {
      "application/vnd.jupyter.widget-view+json": {
       "model_id": "",
       "version_major": 2,
       "version_minor": 0
      },
      "text/plain": [
       "  0%|          | 0/120 [00:00<?, ?it/s]"
      ]
     },
     "metadata": {},
     "output_type": "display_data"
    },
    {
     "data": {
      "application/vnd.jupyter.widget-view+json": {
       "model_id": "",
       "version_major": 2,
       "version_minor": 0
      },
      "text/plain": [
       "  0%|          | 0/52 [00:00<?, ?it/s]"
      ]
     },
     "metadata": {},
     "output_type": "display_data"
    },
    {
     "data": {
      "application/vnd.jupyter.widget-view+json": {
       "model_id": "",
       "version_major": 2,
       "version_minor": 0
      },
      "text/plain": [
       "  0%|          | 0/120 [00:00<?, ?it/s]"
      ]
     },
     "metadata": {},
     "output_type": "display_data"
    },
    {
     "data": {
      "application/vnd.jupyter.widget-view+json": {
       "model_id": "",
       "version_major": 2,
       "version_minor": 0
      },
      "text/plain": [
       "  0%|          | 0/52 [00:00<?, ?it/s]"
      ]
     },
     "metadata": {},
     "output_type": "display_data"
    },
    {
     "data": {
      "application/vnd.jupyter.widget-view+json": {
       "model_id": "",
       "version_major": 2,
       "version_minor": 0
      },
      "text/plain": [
       "  0%|          | 0/120 [00:00<?, ?it/s]"
      ]
     },
     "metadata": {},
     "output_type": "display_data"
    },
    {
     "data": {
      "application/vnd.jupyter.widget-view+json": {
       "model_id": "",
       "version_major": 2,
       "version_minor": 0
      },
      "text/plain": [
       "  0%|          | 0/52 [00:00<?, ?it/s]"
      ]
     },
     "metadata": {},
     "output_type": "display_data"
    },
    {
     "data": {
      "application/vnd.jupyter.widget-view+json": {
       "model_id": "",
       "version_major": 2,
       "version_minor": 0
      },
      "text/plain": [
       "  0%|          | 0/120 [00:00<?, ?it/s]"
      ]
     },
     "metadata": {},
     "output_type": "display_data"
    },
    {
     "data": {
      "application/vnd.jupyter.widget-view+json": {
       "model_id": "",
       "version_major": 2,
       "version_minor": 0
      },
      "text/plain": [
       "  0%|          | 0/52 [00:00<?, ?it/s]"
      ]
     },
     "metadata": {},
     "output_type": "display_data"
    },
    {
     "data": {
      "application/vnd.jupyter.widget-view+json": {
       "model_id": "",
       "version_major": 2,
       "version_minor": 0
      },
      "text/plain": [
       "  0%|          | 0/120 [00:00<?, ?it/s]"
      ]
     },
     "metadata": {},
     "output_type": "display_data"
    },
    {
     "data": {
      "application/vnd.jupyter.widget-view+json": {
       "model_id": "",
       "version_major": 2,
       "version_minor": 0
      },
      "text/plain": [
       "  0%|          | 0/52 [00:00<?, ?it/s]"
      ]
     },
     "metadata": {},
     "output_type": "display_data"
    },
    {
     "data": {
      "application/vnd.jupyter.widget-view+json": {
       "model_id": "",
       "version_major": 2,
       "version_minor": 0
      },
      "text/plain": [
       "  0%|          | 0/120 [00:00<?, ?it/s]"
      ]
     },
     "metadata": {},
     "output_type": "display_data"
    },
    {
     "data": {
      "application/vnd.jupyter.widget-view+json": {
       "model_id": "",
       "version_major": 2,
       "version_minor": 0
      },
      "text/plain": [
       "  0%|          | 0/52 [00:00<?, ?it/s]"
      ]
     },
     "metadata": {},
     "output_type": "display_data"
    },
    {
     "data": {
      "application/vnd.jupyter.widget-view+json": {
       "model_id": "",
       "version_major": 2,
       "version_minor": 0
      },
      "text/plain": [
       "  0%|          | 0/120 [00:00<?, ?it/s]"
      ]
     },
     "metadata": {},
     "output_type": "display_data"
    },
    {
     "data": {
      "application/vnd.jupyter.widget-view+json": {
       "model_id": "",
       "version_major": 2,
       "version_minor": 0
      },
      "text/plain": [
       "  0%|          | 0/52 [00:00<?, ?it/s]"
      ]
     },
     "metadata": {},
     "output_type": "display_data"
    },
    {
     "name": "stdout",
     "output_type": "stream",
     "text": [
      "Epoch #11\tTrain Loss: 1.500 \tTrain Accuracy: 0.536\n",
      "Epoch #11\tEval Loss: 1.511 \tEval Accuracy: 0.522\n"
     ]
    },
    {
     "data": {
      "application/vnd.jupyter.widget-view+json": {
       "model_id": "",
       "version_major": 2,
       "version_minor": 0
      },
      "text/plain": [
       "  0%|          | 0/120 [00:00<?, ?it/s]"
      ]
     },
     "metadata": {},
     "output_type": "display_data"
    },
    {
     "data": {
      "application/vnd.jupyter.widget-view+json": {
       "model_id": "",
       "version_major": 2,
       "version_minor": 0
      },
      "text/plain": [
       "  0%|          | 0/52 [00:00<?, ?it/s]"
      ]
     },
     "metadata": {},
     "output_type": "display_data"
    },
    {
     "data": {
      "application/vnd.jupyter.widget-view+json": {
       "model_id": "",
       "version_major": 2,
       "version_minor": 0
      },
      "text/plain": [
       "  0%|          | 0/120 [00:00<?, ?it/s]"
      ]
     },
     "metadata": {},
     "output_type": "display_data"
    },
    {
     "data": {
      "application/vnd.jupyter.widget-view+json": {
       "model_id": "",
       "version_major": 2,
       "version_minor": 0
      },
      "text/plain": [
       "  0%|          | 0/52 [00:00<?, ?it/s]"
      ]
     },
     "metadata": {},
     "output_type": "display_data"
    },
    {
     "data": {
      "application/vnd.jupyter.widget-view+json": {
       "model_id": "",
       "version_major": 2,
       "version_minor": 0
      },
      "text/plain": [
       "  0%|          | 0/120 [00:00<?, ?it/s]"
      ]
     },
     "metadata": {},
     "output_type": "display_data"
    },
    {
     "data": {
      "application/vnd.jupyter.widget-view+json": {
       "model_id": "",
       "version_major": 2,
       "version_minor": 0
      },
      "text/plain": [
       "  0%|          | 0/52 [00:00<?, ?it/s]"
      ]
     },
     "metadata": {},
     "output_type": "display_data"
    },
    {
     "data": {
      "application/vnd.jupyter.widget-view+json": {
       "model_id": "",
       "version_major": 2,
       "version_minor": 0
      },
      "text/plain": [
       "  0%|          | 0/120 [00:00<?, ?it/s]"
      ]
     },
     "metadata": {},
     "output_type": "display_data"
    },
    {
     "data": {
      "application/vnd.jupyter.widget-view+json": {
       "model_id": "",
       "version_major": 2,
       "version_minor": 0
      },
      "text/plain": [
       "  0%|          | 0/52 [00:00<?, ?it/s]"
      ]
     },
     "metadata": {},
     "output_type": "display_data"
    },
    {
     "data": {
      "application/vnd.jupyter.widget-view+json": {
       "model_id": "",
       "version_major": 2,
       "version_minor": 0
      },
      "text/plain": [
       "  0%|          | 0/120 [00:00<?, ?it/s]"
      ]
     },
     "metadata": {},
     "output_type": "display_data"
    },
    {
     "data": {
      "application/vnd.jupyter.widget-view+json": {
       "model_id": "",
       "version_major": 2,
       "version_minor": 0
      },
      "text/plain": [
       "  0%|          | 0/52 [00:00<?, ?it/s]"
      ]
     },
     "metadata": {},
     "output_type": "display_data"
    },
    {
     "data": {
      "application/vnd.jupyter.widget-view+json": {
       "model_id": "",
       "version_major": 2,
       "version_minor": 0
      },
      "text/plain": [
       "  0%|          | 0/120 [00:00<?, ?it/s]"
      ]
     },
     "metadata": {},
     "output_type": "display_data"
    },
    {
     "data": {
      "application/vnd.jupyter.widget-view+json": {
       "model_id": "",
       "version_major": 2,
       "version_minor": 0
      },
      "text/plain": [
       "  0%|          | 0/52 [00:00<?, ?it/s]"
      ]
     },
     "metadata": {},
     "output_type": "display_data"
    },
    {
     "data": {
      "application/vnd.jupyter.widget-view+json": {
       "model_id": "",
       "version_major": 2,
       "version_minor": 0
      },
      "text/plain": [
       "  0%|          | 0/120 [00:00<?, ?it/s]"
      ]
     },
     "metadata": {},
     "output_type": "display_data"
    },
    {
     "data": {
      "application/vnd.jupyter.widget-view+json": {
       "model_id": "",
       "version_major": 2,
       "version_minor": 0
      },
      "text/plain": [
       "  0%|          | 0/52 [00:00<?, ?it/s]"
      ]
     },
     "metadata": {},
     "output_type": "display_data"
    },
    {
     "data": {
      "application/vnd.jupyter.widget-view+json": {
       "model_id": "",
       "version_major": 2,
       "version_minor": 0
      },
      "text/plain": [
       "  0%|          | 0/120 [00:00<?, ?it/s]"
      ]
     },
     "metadata": {},
     "output_type": "display_data"
    },
    {
     "data": {
      "application/vnd.jupyter.widget-view+json": {
       "model_id": "",
       "version_major": 2,
       "version_minor": 0
      },
      "text/plain": [
       "  0%|          | 0/52 [00:00<?, ?it/s]"
      ]
     },
     "metadata": {},
     "output_type": "display_data"
    },
    {
     "data": {
      "application/vnd.jupyter.widget-view+json": {
       "model_id": "",
       "version_major": 2,
       "version_minor": 0
      },
      "text/plain": [
       "  0%|          | 0/120 [00:00<?, ?it/s]"
      ]
     },
     "metadata": {},
     "output_type": "display_data"
    },
    {
     "data": {
      "application/vnd.jupyter.widget-view+json": {
       "model_id": "",
       "version_major": 2,
       "version_minor": 0
      },
      "text/plain": [
       "  0%|          | 0/52 [00:00<?, ?it/s]"
      ]
     },
     "metadata": {},
     "output_type": "display_data"
    },
    {
     "data": {
      "application/vnd.jupyter.widget-view+json": {
       "model_id": "",
       "version_major": 2,
       "version_minor": 0
      },
      "text/plain": [
       "  0%|          | 0/120 [00:00<?, ?it/s]"
      ]
     },
     "metadata": {},
     "output_type": "display_data"
    },
    {
     "data": {
      "application/vnd.jupyter.widget-view+json": {
       "model_id": "",
       "version_major": 2,
       "version_minor": 0
      },
      "text/plain": [
       "  0%|          | 0/52 [00:00<?, ?it/s]"
      ]
     },
     "metadata": {},
     "output_type": "display_data"
    },
    {
     "name": "stdout",
     "output_type": "stream",
     "text": [
      "Epoch #21\tTrain Loss: 1.427 \tTrain Accuracy: 0.615\n",
      "Epoch #21\tEval Loss: 1.492 \tEval Accuracy: 0.543\n"
     ]
    },
    {
     "data": {
      "application/vnd.jupyter.widget-view+json": {
       "model_id": "",
       "version_major": 2,
       "version_minor": 0
      },
      "text/plain": [
       "  0%|          | 0/120 [00:00<?, ?it/s]"
      ]
     },
     "metadata": {},
     "output_type": "display_data"
    },
    {
     "data": {
      "application/vnd.jupyter.widget-view+json": {
       "model_id": "",
       "version_major": 2,
       "version_minor": 0
      },
      "text/plain": [
       "  0%|          | 0/52 [00:00<?, ?it/s]"
      ]
     },
     "metadata": {},
     "output_type": "display_data"
    },
    {
     "data": {
      "application/vnd.jupyter.widget-view+json": {
       "model_id": "",
       "version_major": 2,
       "version_minor": 0
      },
      "text/plain": [
       "  0%|          | 0/120 [00:00<?, ?it/s]"
      ]
     },
     "metadata": {},
     "output_type": "display_data"
    },
    {
     "data": {
      "application/vnd.jupyter.widget-view+json": {
       "model_id": "",
       "version_major": 2,
       "version_minor": 0
      },
      "text/plain": [
       "  0%|          | 0/52 [00:00<?, ?it/s]"
      ]
     },
     "metadata": {},
     "output_type": "display_data"
    },
    {
     "data": {
      "application/vnd.jupyter.widget-view+json": {
       "model_id": "",
       "version_major": 2,
       "version_minor": 0
      },
      "text/plain": [
       "  0%|          | 0/120 [00:00<?, ?it/s]"
      ]
     },
     "metadata": {},
     "output_type": "display_data"
    },
    {
     "data": {
      "application/vnd.jupyter.widget-view+json": {
       "model_id": "",
       "version_major": 2,
       "version_minor": 0
      },
      "text/plain": [
       "  0%|          | 0/52 [00:00<?, ?it/s]"
      ]
     },
     "metadata": {},
     "output_type": "display_data"
    },
    {
     "data": {
      "application/vnd.jupyter.widget-view+json": {
       "model_id": "",
       "version_major": 2,
       "version_minor": 0
      },
      "text/plain": [
       "  0%|          | 0/120 [00:00<?, ?it/s]"
      ]
     },
     "metadata": {},
     "output_type": "display_data"
    },
    {
     "data": {
      "application/vnd.jupyter.widget-view+json": {
       "model_id": "",
       "version_major": 2,
       "version_minor": 0
      },
      "text/plain": [
       "  0%|          | 0/52 [00:00<?, ?it/s]"
      ]
     },
     "metadata": {},
     "output_type": "display_data"
    },
    {
     "data": {
      "application/vnd.jupyter.widget-view+json": {
       "model_id": "",
       "version_major": 2,
       "version_minor": 0
      },
      "text/plain": [
       "  0%|          | 0/120 [00:00<?, ?it/s]"
      ]
     },
     "metadata": {},
     "output_type": "display_data"
    },
    {
     "data": {
      "application/vnd.jupyter.widget-view+json": {
       "model_id": "",
       "version_major": 2,
       "version_minor": 0
      },
      "text/plain": [
       "  0%|          | 0/52 [00:00<?, ?it/s]"
      ]
     },
     "metadata": {},
     "output_type": "display_data"
    },
    {
     "data": {
      "application/vnd.jupyter.widget-view+json": {
       "model_id": "",
       "version_major": 2,
       "version_minor": 0
      },
      "text/plain": [
       "  0%|          | 0/120 [00:00<?, ?it/s]"
      ]
     },
     "metadata": {},
     "output_type": "display_data"
    },
    {
     "data": {
      "application/vnd.jupyter.widget-view+json": {
       "model_id": "",
       "version_major": 2,
       "version_minor": 0
      },
      "text/plain": [
       "  0%|          | 0/52 [00:00<?, ?it/s]"
      ]
     },
     "metadata": {},
     "output_type": "display_data"
    },
    {
     "data": {
      "application/vnd.jupyter.widget-view+json": {
       "model_id": "",
       "version_major": 2,
       "version_minor": 0
      },
      "text/plain": [
       "  0%|          | 0/120 [00:00<?, ?it/s]"
      ]
     },
     "metadata": {},
     "output_type": "display_data"
    },
    {
     "data": {
      "application/vnd.jupyter.widget-view+json": {
       "model_id": "",
       "version_major": 2,
       "version_minor": 0
      },
      "text/plain": [
       "  0%|          | 0/52 [00:00<?, ?it/s]"
      ]
     },
     "metadata": {},
     "output_type": "display_data"
    },
    {
     "data": {
      "application/vnd.jupyter.widget-view+json": {
       "model_id": "",
       "version_major": 2,
       "version_minor": 0
      },
      "text/plain": [
       "  0%|          | 0/120 [00:00<?, ?it/s]"
      ]
     },
     "metadata": {},
     "output_type": "display_data"
    },
    {
     "data": {
      "application/vnd.jupyter.widget-view+json": {
       "model_id": "",
       "version_major": 2,
       "version_minor": 0
      },
      "text/plain": [
       "  0%|          | 0/52 [00:00<?, ?it/s]"
      ]
     },
     "metadata": {},
     "output_type": "display_data"
    },
    {
     "data": {
      "application/vnd.jupyter.widget-view+json": {
       "model_id": "",
       "version_major": 2,
       "version_minor": 0
      },
      "text/plain": [
       "  0%|          | 0/120 [00:00<?, ?it/s]"
      ]
     },
     "metadata": {},
     "output_type": "display_data"
    },
    {
     "data": {
      "application/vnd.jupyter.widget-view+json": {
       "model_id": "",
       "version_major": 2,
       "version_minor": 0
      },
      "text/plain": [
       "  0%|          | 0/52 [00:00<?, ?it/s]"
      ]
     },
     "metadata": {},
     "output_type": "display_data"
    },
    {
     "data": {
      "application/vnd.jupyter.widget-view+json": {
       "model_id": "",
       "version_major": 2,
       "version_minor": 0
      },
      "text/plain": [
       "  0%|          | 0/120 [00:00<?, ?it/s]"
      ]
     },
     "metadata": {},
     "output_type": "display_data"
    },
    {
     "data": {
      "application/vnd.jupyter.widget-view+json": {
       "model_id": "",
       "version_major": 2,
       "version_minor": 0
      },
      "text/plain": [
       "  0%|          | 0/52 [00:00<?, ?it/s]"
      ]
     },
     "metadata": {},
     "output_type": "display_data"
    },
    {
     "name": "stdout",
     "output_type": "stream",
     "text": [
      "Epoch #31\tTrain Loss: 1.350 \tTrain Accuracy: 0.694\n",
      "Epoch #31\tEval Loss: 1.479 \tEval Accuracy: 0.561\n"
     ]
    },
    {
     "data": {
      "application/vnd.jupyter.widget-view+json": {
       "model_id": "",
       "version_major": 2,
       "version_minor": 0
      },
      "text/plain": [
       "  0%|          | 0/120 [00:00<?, ?it/s]"
      ]
     },
     "metadata": {},
     "output_type": "display_data"
    },
    {
     "data": {
      "application/vnd.jupyter.widget-view+json": {
       "model_id": "",
       "version_major": 2,
       "version_minor": 0
      },
      "text/plain": [
       "  0%|          | 0/52 [00:00<?, ?it/s]"
      ]
     },
     "metadata": {},
     "output_type": "display_data"
    },
    {
     "data": {
      "application/vnd.jupyter.widget-view+json": {
       "model_id": "",
       "version_major": 2,
       "version_minor": 0
      },
      "text/plain": [
       "  0%|          | 0/120 [00:00<?, ?it/s]"
      ]
     },
     "metadata": {},
     "output_type": "display_data"
    },
    {
     "data": {
      "application/vnd.jupyter.widget-view+json": {
       "model_id": "",
       "version_major": 2,
       "version_minor": 0
      },
      "text/plain": [
       "  0%|          | 0/52 [00:00<?, ?it/s]"
      ]
     },
     "metadata": {},
     "output_type": "display_data"
    },
    {
     "data": {
      "application/vnd.jupyter.widget-view+json": {
       "model_id": "",
       "version_major": 2,
       "version_minor": 0
      },
      "text/plain": [
       "  0%|          | 0/120 [00:00<?, ?it/s]"
      ]
     },
     "metadata": {},
     "output_type": "display_data"
    },
    {
     "data": {
      "application/vnd.jupyter.widget-view+json": {
       "model_id": "",
       "version_major": 2,
       "version_minor": 0
      },
      "text/plain": [
       "  0%|          | 0/52 [00:00<?, ?it/s]"
      ]
     },
     "metadata": {},
     "output_type": "display_data"
    },
    {
     "data": {
      "application/vnd.jupyter.widget-view+json": {
       "model_id": "",
       "version_major": 2,
       "version_minor": 0
      },
      "text/plain": [
       "  0%|          | 0/120 [00:00<?, ?it/s]"
      ]
     },
     "metadata": {},
     "output_type": "display_data"
    },
    {
     "data": {
      "application/vnd.jupyter.widget-view+json": {
       "model_id": "",
       "version_major": 2,
       "version_minor": 0
      },
      "text/plain": [
       "  0%|          | 0/52 [00:00<?, ?it/s]"
      ]
     },
     "metadata": {},
     "output_type": "display_data"
    },
    {
     "data": {
      "application/vnd.jupyter.widget-view+json": {
       "model_id": "",
       "version_major": 2,
       "version_minor": 0
      },
      "text/plain": [
       "  0%|          | 0/120 [00:00<?, ?it/s]"
      ]
     },
     "metadata": {},
     "output_type": "display_data"
    },
    {
     "data": {
      "application/vnd.jupyter.widget-view+json": {
       "model_id": "",
       "version_major": 2,
       "version_minor": 0
      },
      "text/plain": [
       "  0%|          | 0/52 [00:00<?, ?it/s]"
      ]
     },
     "metadata": {},
     "output_type": "display_data"
    },
    {
     "data": {
      "application/vnd.jupyter.widget-view+json": {
       "model_id": "",
       "version_major": 2,
       "version_minor": 0
      },
      "text/plain": [
       "  0%|          | 0/120 [00:00<?, ?it/s]"
      ]
     },
     "metadata": {},
     "output_type": "display_data"
    },
    {
     "data": {
      "application/vnd.jupyter.widget-view+json": {
       "model_id": "",
       "version_major": 2,
       "version_minor": 0
      },
      "text/plain": [
       "  0%|          | 0/52 [00:00<?, ?it/s]"
      ]
     },
     "metadata": {},
     "output_type": "display_data"
    },
    {
     "data": {
      "application/vnd.jupyter.widget-view+json": {
       "model_id": "",
       "version_major": 2,
       "version_minor": 0
      },
      "text/plain": [
       "  0%|          | 0/120 [00:00<?, ?it/s]"
      ]
     },
     "metadata": {},
     "output_type": "display_data"
    },
    {
     "data": {
      "application/vnd.jupyter.widget-view+json": {
       "model_id": "",
       "version_major": 2,
       "version_minor": 0
      },
      "text/plain": [
       "  0%|          | 0/52 [00:00<?, ?it/s]"
      ]
     },
     "metadata": {},
     "output_type": "display_data"
    },
    {
     "data": {
      "application/vnd.jupyter.widget-view+json": {
       "model_id": "",
       "version_major": 2,
       "version_minor": 0
      },
      "text/plain": [
       "  0%|          | 0/120 [00:00<?, ?it/s]"
      ]
     },
     "metadata": {},
     "output_type": "display_data"
    },
    {
     "data": {
      "application/vnd.jupyter.widget-view+json": {
       "model_id": "",
       "version_major": 2,
       "version_minor": 0
      },
      "text/plain": [
       "  0%|          | 0/52 [00:00<?, ?it/s]"
      ]
     },
     "metadata": {},
     "output_type": "display_data"
    },
    {
     "data": {
      "application/vnd.jupyter.widget-view+json": {
       "model_id": "",
       "version_major": 2,
       "version_minor": 0
      },
      "text/plain": [
       "  0%|          | 0/120 [00:00<?, ?it/s]"
      ]
     },
     "metadata": {},
     "output_type": "display_data"
    },
    {
     "data": {
      "application/vnd.jupyter.widget-view+json": {
       "model_id": "",
       "version_major": 2,
       "version_minor": 0
      },
      "text/plain": [
       "  0%|          | 0/52 [00:00<?, ?it/s]"
      ]
     },
     "metadata": {},
     "output_type": "display_data"
    },
    {
     "data": {
      "application/vnd.jupyter.widget-view+json": {
       "model_id": "",
       "version_major": 2,
       "version_minor": 0
      },
      "text/plain": [
       "  0%|          | 0/120 [00:00<?, ?it/s]"
      ]
     },
     "metadata": {},
     "output_type": "display_data"
    },
    {
     "data": {
      "application/vnd.jupyter.widget-view+json": {
       "model_id": "",
       "version_major": 2,
       "version_minor": 0
      },
      "text/plain": [
       "  0%|          | 0/52 [00:00<?, ?it/s]"
      ]
     },
     "metadata": {},
     "output_type": "display_data"
    },
    {
     "name": "stdout",
     "output_type": "stream",
     "text": [
      "Epoch #41\tTrain Loss: 1.305 \tTrain Accuracy: 0.740\n",
      "Epoch #41\tEval Loss: 1.475 \tEval Accuracy: 0.565\n"
     ]
    },
    {
     "data": {
      "application/vnd.jupyter.widget-view+json": {
       "model_id": "",
       "version_major": 2,
       "version_minor": 0
      },
      "text/plain": [
       "  0%|          | 0/120 [00:00<?, ?it/s]"
      ]
     },
     "metadata": {},
     "output_type": "display_data"
    },
    {
     "data": {
      "application/vnd.jupyter.widget-view+json": {
       "model_id": "",
       "version_major": 2,
       "version_minor": 0
      },
      "text/plain": [
       "  0%|          | 0/52 [00:00<?, ?it/s]"
      ]
     },
     "metadata": {},
     "output_type": "display_data"
    },
    {
     "data": {
      "application/vnd.jupyter.widget-view+json": {
       "model_id": "",
       "version_major": 2,
       "version_minor": 0
      },
      "text/plain": [
       "  0%|          | 0/120 [00:00<?, ?it/s]"
      ]
     },
     "metadata": {},
     "output_type": "display_data"
    },
    {
     "data": {
      "application/vnd.jupyter.widget-view+json": {
       "model_id": "",
       "version_major": 2,
       "version_minor": 0
      },
      "text/plain": [
       "  0%|          | 0/52 [00:00<?, ?it/s]"
      ]
     },
     "metadata": {},
     "output_type": "display_data"
    },
    {
     "data": {
      "application/vnd.jupyter.widget-view+json": {
       "model_id": "",
       "version_major": 2,
       "version_minor": 0
      },
      "text/plain": [
       "  0%|          | 0/120 [00:00<?, ?it/s]"
      ]
     },
     "metadata": {},
     "output_type": "display_data"
    },
    {
     "data": {
      "application/vnd.jupyter.widget-view+json": {
       "model_id": "",
       "version_major": 2,
       "version_minor": 0
      },
      "text/plain": [
       "  0%|          | 0/52 [00:00<?, ?it/s]"
      ]
     },
     "metadata": {},
     "output_type": "display_data"
    },
    {
     "data": {
      "application/vnd.jupyter.widget-view+json": {
       "model_id": "",
       "version_major": 2,
       "version_minor": 0
      },
      "text/plain": [
       "  0%|          | 0/120 [00:00<?, ?it/s]"
      ]
     },
     "metadata": {},
     "output_type": "display_data"
    },
    {
     "data": {
      "application/vnd.jupyter.widget-view+json": {
       "model_id": "",
       "version_major": 2,
       "version_minor": 0
      },
      "text/plain": [
       "  0%|          | 0/52 [00:00<?, ?it/s]"
      ]
     },
     "metadata": {},
     "output_type": "display_data"
    },
    {
     "data": {
      "application/vnd.jupyter.widget-view+json": {
       "model_id": "",
       "version_major": 2,
       "version_minor": 0
      },
      "text/plain": [
       "  0%|          | 0/120 [00:00<?, ?it/s]"
      ]
     },
     "metadata": {},
     "output_type": "display_data"
    },
    {
     "data": {
      "application/vnd.jupyter.widget-view+json": {
       "model_id": "",
       "version_major": 2,
       "version_minor": 0
      },
      "text/plain": [
       "  0%|          | 0/52 [00:00<?, ?it/s]"
      ]
     },
     "metadata": {},
     "output_type": "display_data"
    },
    {
     "data": {
      "application/vnd.jupyter.widget-view+json": {
       "model_id": "",
       "version_major": 2,
       "version_minor": 0
      },
      "text/plain": [
       "  0%|          | 0/120 [00:00<?, ?it/s]"
      ]
     },
     "metadata": {},
     "output_type": "display_data"
    },
    {
     "data": {
      "application/vnd.jupyter.widget-view+json": {
       "model_id": "",
       "version_major": 2,
       "version_minor": 0
      },
      "text/plain": [
       "  0%|          | 0/52 [00:00<?, ?it/s]"
      ]
     },
     "metadata": {},
     "output_type": "display_data"
    },
    {
     "data": {
      "application/vnd.jupyter.widget-view+json": {
       "model_id": "",
       "version_major": 2,
       "version_minor": 0
      },
      "text/plain": [
       "  0%|          | 0/120 [00:00<?, ?it/s]"
      ]
     },
     "metadata": {},
     "output_type": "display_data"
    },
    {
     "data": {
      "application/vnd.jupyter.widget-view+json": {
       "model_id": "",
       "version_major": 2,
       "version_minor": 0
      },
      "text/plain": [
       "  0%|          | 0/52 [00:00<?, ?it/s]"
      ]
     },
     "metadata": {},
     "output_type": "display_data"
    },
    {
     "data": {
      "application/vnd.jupyter.widget-view+json": {
       "model_id": "",
       "version_major": 2,
       "version_minor": 0
      },
      "text/plain": [
       "  0%|          | 0/120 [00:00<?, ?it/s]"
      ]
     },
     "metadata": {},
     "output_type": "display_data"
    },
    {
     "data": {
      "application/vnd.jupyter.widget-view+json": {
       "model_id": "",
       "version_major": 2,
       "version_minor": 0
      },
      "text/plain": [
       "  0%|          | 0/52 [00:00<?, ?it/s]"
      ]
     },
     "metadata": {},
     "output_type": "display_data"
    },
    {
     "data": {
      "application/vnd.jupyter.widget-view+json": {
       "model_id": "",
       "version_major": 2,
       "version_minor": 0
      },
      "text/plain": [
       "  0%|          | 0/120 [00:00<?, ?it/s]"
      ]
     },
     "metadata": {},
     "output_type": "display_data"
    },
    {
     "name": "stderr",
     "output_type": "stream",
     "text": [
      "/tmp/ipykernel_7441/1687237231.py:3: TqdmDeprecationWarning: This function will be removed in tqdm==5.0.0\n",
      "Please use `tqdm.notebook.tqdm` instead of `tqdm.tqdm_notebook`\n",
      "  progress_bar = tqdm_notebook(test_loader, leave=False)\n"
     ]
    },
    {
     "data": {
      "application/vnd.jupyter.widget-view+json": {
       "model_id": "",
       "version_major": 2,
       "version_minor": 0
      },
      "text/plain": [
       "  0%|          | 0/52 [00:00<?, ?it/s]"
      ]
     },
     "metadata": {},
     "output_type": "display_data"
    },
    {
     "data": {
      "image/png": "[encoded data removed]",
      "text/plain": [
       "<Figure size 720x432 with 2 Axes>"
      ]
     },
     "metadata": {
      "needs_background": "light"
     },
     "output_type": "display_data"
    },
    {
     "data": {
      "image/png": "[encoded data removed]",
      "text/plain": [
       "<Figure size 720x432 with 2 Axes>"
      ]
     },
     "metadata": {
      "needs_background": "light"
     },
     "output_type": "display_data"
    }
   ],
   "source": [
    "train_losses = []\n",
    "train_accuracy = []\n",
    "eval_losses = []\n",
    "eval_accuracy = []\n",
    "confusion = False\n",
    "for epoch in range(EPOCHS):\n",
    "    if epoch == EPOCHS-1:\n",
    "        confusion = True\n",
    "    train_batch_losses, train_batch_accuracy, total = train(model, train_loader, confusion)\n",
    "    eval_batch_loss, eval_batch_acc, total_ = evalu(model, test_loader, confusion)\n",
    "\n",
    "    \n",
    "    train_epoch_loss = sum(train_batch_losses) / total\n",
    "    train_epoch_acc = sum(train_batch_accuracy) / total\n",
    "    \n",
    "    eval_epoch_loss = sum(eval_batch_loss) / total_\n",
    "    eval_epoch_acc = sum(eval_batch_acc) / total_\n",
    "    \n",
    "    train_losses.append(train_epoch_loss)\n",
    "    train_accuracy.append(train_epoch_acc)\n",
    "    \n",
    "    eval_losses.append(eval_epoch_loss)\n",
    "    eval_accuracy.append(eval_epoch_acc)\n",
    "    \n",
    "    if epoch % 10 == 0:\n",
    "        tqdm.write(f'Epoch #{epoch + 1}\\tTrain Loss: {train_epoch_loss:.3f} \\tTrain Accuracy: {train_epoch_acc:.3f}')\n",
    "        tqdm.write(f'Epoch #{epoch + 1}\\tEval Loss: {eval_epoch_loss:.3f} \\tEval Accuracy: {eval_epoch_acc:.3f}')"
   ]
  },
  {
   "cell_type": "code",
   "execution_count": 115,
   "id": "50790cae-4948-4bac-8f81-5eef5c4ae8ac",
   "metadata": {},
   "outputs": [
    {
     "data": {
      "image/png": "[encoded data removed]",
      "text/plain": [
       "<Figure size 432x288 with 1 Axes>"
      ]
     },
     "metadata": {
      "needs_background": "light"
     },
     "output_type": "display_data"
    }
   ],
   "source": [
    "plt.plot(train_accuracy)\n",
    "plt.plot(eval_accuracy)\n",
    "plt.title('model accuracy')\n",
    "plt.ylabel('accuracy')\n",
    "plt.xlabel('epoch')\n",
    "plt.legend(['train', 'val'], loc='upper left')\n",
    "plt.show()"
   ]
  }
 ],
 "metadata": {
  "kernelspec": {
   "display_name": "myenv",
   "language": "python",
   "name": "myenv"
  },
  "language_info": {
   "codemirror_mode": {
    "name": "ipython",
    "version": 3
   },
   "file_extension": ".py",
   "mimetype": "text/x-python",
   "name": "python",
   "nbconvert_exporter": "python",
   "pygments_lexer": "ipython3",
   "version": "3.9.12"
  }
 },
 "nbformat": 4,
 "nbformat_minor": 5
}
